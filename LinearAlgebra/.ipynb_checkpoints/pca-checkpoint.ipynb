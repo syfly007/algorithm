{
 "cells": [
  {
   "cell_type": "code",
   "execution_count": 1,
   "metadata": {},
   "outputs": [
    {
     "name": "stdout",
     "output_type": "stream",
     "text": [
      "指数为： [[ 1.        ]\n",
      " [ 0.80304281]\n",
      " [ 0.76997066]\n",
      " [ 0.70634009]\n",
      " [ 0.64036158]\n",
      " [ 0.57707021]\n",
      " [ 0.51458618]]\n"
     ]
    }
   ],
   "source": [
    "# -*- coding: utf-8 -*-\n",
    "\"\"\"\n",
    "Created on Mon Nov 20 15:59:35 2017\n",
    "\n",
    "@author: admin\n",
    "\"\"\"\n",
    "import numpy as np\n",
    "import pandas as pd\n",
    "def PCA(dataMat):\n",
    "    meanVals = np.mean(dataMat, axis=0)\n",
    "    meanRemoved = dataMat-meanVals\n",
    "    ##相关系数矩阵\n",
    "    covMat = np.cov(meanRemoved, rowvar=0)\n",
    "    ##特征分解\n",
    "    eigVals, eigVets = np.linalg.eig(np.mat(covMat))\n",
    "#     eigVets = np.abs(eigVets)\n",
    "    pricWeig = eigVals/ np.sum(eigVals)\n",
    "    aa = np.mat(eigVets.T)*np.mat(np.array(pricWeig)).T\n",
    "    pcaWeight = (aa-np.min(aa))/(np.max(aa)-np.min(aa))\n",
    "    pricScore = np.dot(dataMat, pcaWeight)\n",
    "    pricScore1=(pricScore)/pricScore[0]\n",
    "    return pricScore1\n",
    "\n",
    "input_table_path = 'pca-data.xlsx'\n",
    "#input_table_path:为excel的存储路径和名称\n",
    "#输入数据需为数值型数据\n",
    "data=pd.read_excel(input_table_path)\n",
    "dataMat=np.array(data)\n",
    "#dataMat 为要做主成分赋权的数据\n",
    "weight=PCA(dataMat)\n",
    "print('指数为：',weight)"
   ]
  },
  {
   "cell_type": "code",
   "execution_count": null,
   "metadata": {
    "collapsed": true
   },
   "outputs": [],
   "source": []
  }
 ],
 "metadata": {
  "kernelspec": {
   "display_name": "Python 3",
   "language": "python",
   "name": "python3"
  },
  "language_info": {
   "codemirror_mode": {
    "name": "ipython",
    "version": 3
   },
   "file_extension": ".py",
   "mimetype": "text/x-python",
   "name": "python",
   "nbconvert_exporter": "python",
   "pygments_lexer": "ipython3",
   "version": "3.6.3"
  },
  "toc": {
   "colors": {
    "hover_highlight": "#DAA520",
    "running_highlight": "#FF0000",
    "selected_highlight": "#FFD700"
   },
   "moveMenuLeft": true,
   "nav_menu": {
    "height": "12px",
    "width": "252px"
   },
   "navigate_menu": true,
   "number_sections": true,
   "sideBar": true,
   "threshold": 4,
   "toc_cell": false,
   "toc_section_display": "block",
   "toc_window_display": false
  }
 },
 "nbformat": 4,
 "nbformat_minor": 2
}
