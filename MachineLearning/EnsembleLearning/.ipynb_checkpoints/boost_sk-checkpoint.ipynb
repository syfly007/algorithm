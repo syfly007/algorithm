{
 "cells": [
  {
   "cell_type": "code",
   "execution_count": 2,
   "metadata": {},
   "outputs": [
    {
     "name": "stdout",
     "output_type": "stream",
     "text": [
      "决策树训练集正确率84.67%\n",
      "GDBT训练集正确率92.00%\n",
      "AdaBoost训练集正确率92.67%\n"
     ]
    }
   ],
   "source": [
    "import numpy as np\n",
    "from sklearn.tree import DecisionTreeClassifier\n",
    "from sklearn.ensemble import GradientBoostingClassifier\n",
    "from sklearn.ensemble import AdaBoostClassifier\n",
    "import matplotlib.pyplot as plt\n",
    "import matplotlib as mpl\n",
    "from sklearn import datasets\n",
    " \n",
    "iris=datasets.load_iris()\n",
    "x=iris.data[:,:2]\n",
    "y=iris.target\n",
    " \n",
    "model1=DecisionTreeClassifier(max_depth=5)\n",
    "model2=GradientBoostingClassifier(n_estimators=100)\n",
    "model3=AdaBoostClassifier(model1,n_estimators=100)\n",
    "model1.fit(x,y)\n",
    "model2.fit(x,y)\n",
    "model3.fit(x,y)\n",
    "model1_pre=model1.predict(x)\n",
    "model2_pre=model2.predict(x)\n",
    "model3_pre=model3.predict(x)\n",
    "res1=model1_pre==y\n",
    "res2=model2_pre==y\n",
    "res3=model3_pre==y\n",
    "print('决策树训练集正确率%.2f%%'%np.mean(res1*100))\n",
    "print('GDBT训练集正确率%.2f%%'%np.mean(res2*100))\n",
    "print('AdaBoost训练集正确率%.2f%%'%np.mean(res3*100))"
   ]
  },
  {
   "cell_type": "code",
   "execution_count": null,
   "metadata": {
    "collapsed": true
   },
   "outputs": [],
   "source": []
  }
 ],
 "metadata": {
  "kernelspec": {
   "display_name": "Python (tf)",
   "language": "python",
   "name": "tf"
  },
  "language_info": {
   "codemirror_mode": {
    "name": "ipython",
    "version": 3
   },
   "file_extension": ".py",
   "mimetype": "text/x-python",
   "name": "python",
   "nbconvert_exporter": "python",
   "pygments_lexer": "ipython3",
   "version": "3.6.3"
  },
  "toc": {
   "nav_menu": {},
   "number_sections": true,
   "sideBar": true,
   "skip_h1_title": false,
   "title_cell": "Table of Contents",
   "title_sidebar": "Contents",
   "toc_cell": false,
   "toc_position": {},
   "toc_section_display": true,
   "toc_window_display": false
  }
 },
 "nbformat": 4,
 "nbformat_minor": 2
}
