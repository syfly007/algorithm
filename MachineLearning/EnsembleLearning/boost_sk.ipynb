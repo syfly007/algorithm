{
 "cells": [
  {
   "cell_type": "markdown",
   "metadata": {},
   "source": [
    "https://blog.csdn.net/sinat_22594309/article/details/60957594"
   ]
  },
  {
   "cell_type": "code",
   "execution_count": 16,
   "metadata": {},
   "outputs": [
    {
     "name": "stdout",
     "output_type": "stream",
     "text": [
      "决策树训练集正确率84.67%\n",
      "GDBT训练集正确率92.00%\n",
      "AdaBoost训练集正确率92.67%\n"
     ]
    }
   ],
   "source": [
    "import numpy as np\n",
    "from sklearn.tree import DecisionTreeClassifier\n",
    "from sklearn.ensemble import GradientBoostingClassifier\n",
    "from sklearn.ensemble import AdaBoostClassifier\n",
    "import matplotlib.pyplot as plt\n",
    "import matplotlib as mpl\n",
    "from sklearn import datasets\n",
    " \n",
    "iris=datasets.load_iris()\n",
    "x=iris.data[:,:2]\n",
    "y=iris.target\n",
    " \n",
    "model1=DecisionTreeClassifier(max_depth=5)\n",
    "model2=GradientBoostingClassifier(n_estimators=100)\n",
    "model3=AdaBoostClassifier(model1,n_estimators=100)\n",
    "model1.fit(x,y)\n",
    "model2.fit(x,y)\n",
    "model3.fit(x,y)\n",
    "model1_pre=model1.predict(x)\n",
    "model2_pre=model2.predict(x)\n",
    "model3_pre=model3.predict(x)\n",
    "res1=model1_pre==y\n",
    "res2=model2_pre==y\n",
    "res3=model3_pre==y\n",
    "print('决策树训练集正确率%.2f%%'%np.mean(res1*100))\n",
    "print('GDBT训练集正确率%.2f%%'%np.mean(res2*100))\n",
    "print('AdaBoost训练集正确率%.2f%%'%np.mean(res3*100))"
   ]
  },
  {
   "cell_type": "code",
   "execution_count": 20,
   "metadata": {},
   "outputs": [
    {
     "name": "stdout",
     "output_type": "stream",
     "text": [
      "[0]\ttrain-merror:0.133333\ttest-merror:0.266667\n",
      "[1]\ttrain-merror:0.12381\ttest-merror:0.266667\n",
      "[2]\ttrain-merror:0.114286\ttest-merror:0.266667\n",
      "[3]\ttrain-merror:0.114286\ttest-merror:0.266667\n",
      "[4]\ttrain-merror:0.114286\ttest-merror:0.266667\n",
      "[5]\ttrain-merror:0.114286\ttest-merror:0.266667\n",
      "[6]\ttrain-merror:0.114286\ttest-merror:0.266667\n",
      "[7]\ttrain-merror:0.114286\ttest-merror:0.266667\n",
      "[8]\ttrain-merror:0.104762\ttest-merror:0.288889\n",
      "[9]\ttrain-merror:0.104762\ttest-merror:0.288889\n",
      "predicting, classification error=0.288889\n"
     ]
    },
    {
     "name": "stderr",
     "output_type": "stream",
     "text": [
      "/Users/sunyufei/anaconda3/envs/tf/lib/python3.6/site-packages/sklearn/model_selection/_split.py:2010: FutureWarning: From version 0.21, test_size will always complement train_size unless both are specified.\n",
      "  FutureWarning)\n"
     ]
    }
   ],
   "source": [
    "import xgboost as xgb\n",
    "from sklearn.model_selection import train_test_split\n",
    "from sklearn import datasets\n",
    " \n",
    "iris=datasets.load_iris()\n",
    "x=iris.data[:,:2]\n",
    "y=iris.target\n",
    "x_train, x_test, y_train, y_test = train_test_split(x, y, train_size=0.7, random_state=1)\n",
    "data_train = xgb.DMatrix(x_train,label=y_train)\n",
    "data_test=xgb.DMatrix(x_test,label=y_test)\n",
    "param = {}\n",
    "param['objective'] = 'multi:softmax'\n",
    "param['eta'] = 0.1\n",
    "param['max_depth'] = 6\n",
    "param['silent'] = 1\n",
    "param['nthread'] = 4\n",
    "param['num_class'] = 3\n",
    "watchlist = [ (data_train,'train'), (data_test, 'test') ]\n",
    "num_round = 10\n",
    "bst = xgb.train(param, data_train, num_round, watchlist );\n",
    "pred = bst.predict( data_test );\n",
    "print ('predicting, classification error=%f' % (sum( int(pred[i]) != y_test[i] for i in range(len(y_test))) / float(len(y_test)) ))"
   ]
  },
  {
   "cell_type": "code",
   "execution_count": null,
   "metadata": {
    "collapsed": true
   },
   "outputs": [],
   "source": []
  }
 ],
 "metadata": {
  "kernelspec": {
   "display_name": "Python (tf)",
   "language": "python",
   "name": "tf"
  },
  "language_info": {
   "codemirror_mode": {
    "name": "ipython",
    "version": 3
   },
   "file_extension": ".py",
   "mimetype": "text/x-python",
   "name": "python",
   "nbconvert_exporter": "python",
   "pygments_lexer": "ipython3",
   "version": "3.6.3"
  },
  "toc": {
   "nav_menu": {},
   "number_sections": true,
   "sideBar": true,
   "skip_h1_title": false,
   "title_cell": "Table of Contents",
   "title_sidebar": "Contents",
   "toc_cell": false,
   "toc_position": {},
   "toc_section_display": true,
   "toc_window_display": false
  }
 },
 "nbformat": 4,
 "nbformat_minor": 2
}
